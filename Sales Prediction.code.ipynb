{
 "cells": [
  {
   "cell_type": "code",
   "execution_count": null,
   "metadata": {},
   "outputs": [],
   "source": [
    "import numpy as np\n",
    "import pandas as pd\n",
    "import matplotlib.pyplot as plt\n",
    "%matplotlib inline\n",
    "\n",
    "import seaborn as sb \n",
    "# Size the plot appropriately for online display\n",
    "plt.rcParams['figure.figsize'] = (12.0, 10.0)"
   ]
  },
  {
   "cell_type": "code",
   "execution_count": null,
   "metadata": {},
   "outputs": [],
   "source": [
    "types = {'StateHoliday': np.dtype(str)}\n",
    "train = pd.read_csv(\"./assets/train_v2.csv\", parse_dates=[2], nrows=66901, dtype=types)\n",
    "store = pd.read_csv(\"./assets/store.csv\")"
   ]
  },
  {
   "cell_type": "code",
   "execution_count": null,
   "metadata": {},
   "outputs": [],
   "source": [
    "not_open = train[(train['Open'] == 0) & (train['Sales'] != 0)]\n",
    "print(\"No closed store with sales: \" + str(not_open.size == 0))"
   ]
  },
  {
   "cell_type": "code",
   "execution_count": null,
   "metadata": {},
   "outputs": [],
   "source": [
    "no_sales = train[(train['Open'] == 1) & (train['Sales'] <= 0)]\n",
    "print(\"No open store with no sales: \" + str(no_sales.size == 0))"
   ]
  },
  {
   "cell_type": "code",
   "execution_count": null,
   "metadata": {},
   "outputs": [],
   "source": [
    "train = train.loc[train['Sales'] > 0]\n",
    "assert(train[train['Sales'] == 0].size == 0)"
   ]
  },
  {
   "cell_type": "code",
   "execution_count": null,
   "metadata": {},
   "outputs": [],
   "source": [
    "dates = pd.to_datetime(train['Date'], format=\"%Y%m%d:%H:%M:%S.%f\").sort_values()\n",
    "dates = dates.unique()\n",
    "start_date = dates[0]\n",
    "end_date = dates[-1]\n",
    "print(\"Start date: \", start_date)\n",
    "print(\"End Date: \", end_date)\n",
    "date_range = pd.date_range(start_date, end_date).values\n",
    "assert(all(dates == date_range))"
   ]
  },
  {
   "cell_type": "code",
   "execution_count": null,
   "metadata": {},
   "outputs": [],
   "source": [
    "f, ax = plt.subplots(7, sharex=True, sharey=True)\n",
    "for i in range(1, 8):\n",
    "    mask = train[train['DayOfWeek'] == i]\n",
    "    ax[i - 1].set_title(\"Day {0}\".format(i))\n",
    "    ax[i - 1].scatter(mask['Customers'], mask['Sales'], label=i)\n",
    "\n",
    "plt.legend()\n",
    "plt.xlabel('Customers')\n",
    "plt.ylabel('Sales')\n",
    "plt.show()"
   ]
  },
  {
   "cell_type": "code",
   "execution_count": null,
   "metadata": {},
   "outputs": [],
   "source": [
    "plt.scatter(train['Customers'], train['Sales'], c=train['DayOfWeek'], alpha=0.7, cmap=plt.cm.get_cmap('viridis'))\n",
    "\n",
    "plt.xlabel('Customers')\n",
    "plt.ylabel('Sales')\n",
    "plt.show()"
   ]
  },
  {
   "cell_type": "code",
   "execution_count": null,
   "metadata": {},
   "outputs": [],
   "source": [
    "for i in [\"0\", \"a\", \"b\", \"c\"]:\n",
    "    data = train[train['StateHoliday'] == i]\n",
    "    if (len(data) == 0):\n",
    "        continue\n",
    "    plt.scatter(data['Customers'], data['Sales'], label=i)\n",
    "\n",
    "plt.legend()\n",
    "plt.xlabel('Customers')\n",
    "plt.ylabel('Sales')\n",
    "plt.show()"
   ]
  },
  {
   "cell_type": "code",
   "execution_count": null,
   "metadata": {},
   "outputs": [],
   "source": [
    "for i in [0, 1]:\n",
    "    data = train[train['SchoolHoliday'] == i]\n",
    "    if (len(data) == 0):\n",
    "        continue\n",
    "    plt.scatter(data['Customers'], data['Sales'], label=i)\n",
    "\n",
    "plt.legend()\n",
    "plt.xlabel('Customers')\n",
    "plt.ylabel('Sales')\n",
    "plt.show()"
   ]
  },
  {
   "cell_type": "code",
   "execution_count": null,
   "metadata": {},
   "outputs": [],
   "source": [
    "for i in [0, 1]:\n",
    "    data = train[train['Promo'] == i]\n",
    "    if (len(data) == 0):\n",
    "        continue\n",
    "    plt.scatter(data['Customers'], data['Sales'], label=i)\n",
    "\n",
    "plt.legend()\n",
    "plt.xlabel('Customers')\n",
    "plt.ylabel('Sales')\n",
    "plt.show()"
   ]
  },
  {
   "cell_type": "code",
   "execution_count": null,
   "metadata": {},
   "outputs": [],
   "source": [
    "train['SalesPerCustomer'] = train['Sales'] / train['Customers']\n",
    "\n",
    "avg_store = train.groupby('Store')[['Sales', 'Customers', 'SalesPerCustomer']].mean()\n",
    "avg_store.rename(columns=lambda x: 'Avg' + x, inplace=True)\n",
    "store = pd.merge(avg_store.reset_index(), store, on='Store')\n",
    "store.head()"
   ]
  },
  {
   "cell_type": "code",
   "execution_count": null,
   "metadata": {},
   "outputs": [],
   "source": [
    "for i in ['a', 'b', 'c', 'd']:\n",
    "    data = store[store['StoreType'] == i]\n",
    "    if (len(data) == 0):\n",
    "        continue\n",
    "    plt.scatter(data['AvgCustomers'], data['AvgSales'], label=i)\n",
    "\n",
    "plt.legend()\n",
    "plt.xlabel('Average Customers')\n",
    "plt.ylabel('Average Sales')\n",
    "plt.show()"
   ]
  },
  {
   "cell_type": "code",
   "execution_count": null,
   "metadata": {},
   "outputs": [],
   "source": [
    "for i in [0, 1]:\n",
    "    data = store[store['Promo2'] == i]\n",
    "    if (len(data) == 0):\n",
    "        continue\n",
    "    plt.scatter(data['AvgCustomers'], data['AvgSales'], label=i)\n",
    "\n",
    "plt.legend()\n",
    "plt.xlabel('Average Customers')\n",
    "plt.ylabel('Average Sales')\n",
    "plt.show()"
   ]
  },
  {
   "cell_type": "code",
   "execution_count": null,
   "metadata": {},
   "outputs": [],
   "source": [
    "# fill NaN values\n",
    "store[\"CompetitionDistance\"].fillna(-1)\n",
    "plt.scatter(store['CompetitionDistance'], store['AvgSales'])\n",
    "\n",
    "plt.xlabel('CompetitionDistance')\n",
    "plt.ylabel('Average Sales')\n",
    "plt.show()"
   ]
  },
  {
   "cell_type": "code",
   "execution_count": null,
   "metadata": {},
   "outputs": [],
   "source": [
    "def build_features(train, store):\n",
    "    # Convert string types into integers\n",
    "    store['StoreType'] = store['StoreType'].astype('category').cat.codes\n",
    "    store['Assortment'] = store['Assortment'].astype('category').cat.codes\n",
    "    train[\"StateHoliday\"] = train[\"StateHoliday\"].astype('category').cat.codes\n",
    "\n",
    "    merged = pd.merge(train, store, on='Store', how='left')\n",
    "    \n",
    "    # remove NaNs\n",
    "    NaN_replace = 0\n",
    "    merged.fillna(NaN_replace, inplace=True)\n",
    "    \n",
    "    merged['Year'] = merged.Date.dt.year\n",
    "    merged['Month'] = merged.Date.dt.month\n",
    "    merged['Day'] = merged.Date.dt.day\n",
    "    merged['Week'] = merged.Date.dt.week\n",
    "    \n",
    "    # Number of months that competition has existed for\n",
    "    merged['MonthsCompetitionOpen'] = \\\n",
    "        12 * (merged['Year'] - merged['CompetitionOpenSinceYear']) + \\\n",
    "        (merged['Month'] - merged['CompetitionOpenSinceMonth'])\n",
    "    merged.loc[merged['CompetitionOpenSinceYear'] ==\n",
    "               NaN_replace, 'MonthsCompetitionOpen'] = NaN_replace\n",
    "    \n",
    "    # Number of weeks that promotion has existed for\n",
    "    merged['WeeksPromoOpen'] = \\\n",
    "        12 * (merged['Year'] - merged['Promo2SinceYear']) + \\\n",
    "        (merged['Date'].dt.weekofyear - merged['Promo2SinceWeek'])\n",
    "    merged.loc[merged['Promo2SinceYear'] == \n",
    "               NaN_replace, 'WeeksPromoOpen'] = NaN_replace\n",
    "\n",
    "    toInt = [\n",
    "        'CompetitionOpenSinceMonth',\n",
    "        'CompetitionOpenSinceYear',\n",
    "        'Promo2SinceWeek', \n",
    "        'Promo2SinceYear', \n",
    "        'MonthsCompetitionOpen', \n",
    "        'WeeksPromoOpen'\n",
    "    ]\n",
    "    merged[toInt] = merged[toInt].astype(int)\n",
    "\n",
    "    return merged\n",
    "\n",
    "med_store = train.groupby('Store')[['Sales', 'Customers', 'SalesPerCustomer']].median()\n",
    "med_store.rename(columns=lambda x: 'Med' + x, inplace=True)\n",
    "\n",
    "store = pd.merge(med_store.reset_index(), store, on='Store')\n",
    "features = build_features(train, store)\n",
    "features.head()"
   ]
  },
  {
   "cell_type": "code",
   "execution_count": null,
   "metadata": {},
   "outputs": [],
   "source": [
    "from sklearn.model_selection import train_test_split\n",
    "X = [\n",
    "    'Store', \n",
    "    'Customers',\n",
    "    'CompetitionDistance', \n",
    "\n",
    "    'Promo', \n",
    "    'Promo2', \n",
    "\n",
    "#     'SchoolHoliday',\n",
    "    'StateHoliday',\n",
    "    'StoreType',\n",
    "    'Assortment',\n",
    "\n",
    "    'AvgSales',\n",
    "    'AvgCustomers',\n",
    "    'AvgSalesPerCustomer',\n",
    "    \n",
    "    'MedSales',\n",
    "    'MedCustomers',\n",
    "    'MedSalesPerCustomer',\n",
    "\n",
    "    'DayOfWeek',\n",
    "    'Week',\n",
    "    'Day',\n",
    "    'Month',\n",
    "    'Year',\n",
    "\n",
    "    'CompetitionOpenSinceMonth',\n",
    "    'CompetitionOpenSinceYear',\n",
    "    'Promo2SinceWeek',\n",
    "    'Promo2SinceYear',\n",
    "\n",
    "#     'MonthsCompetitionOpen',\n",
    "#     'WeeksPromoOpen'\n",
    "]\n",
    "X_train, X_test, y_train, y_test = train_test_split(\n",
    "    features[X], features['Sales'], test_size=0.15, random_state=10)"
   ]
  },
  {
   "cell_type": "code",
   "execution_count": null,
   "metadata": {},
   "outputs": [],
   "source": [
    "from sklearn.model_selection import cross_val_score\n",
    "from sklearn.metrics import make_scorer\n",
    "\n",
    "# Error calculating function according to kaggle\n",
    "def rmspe(y, y_hat):\n",
    "    return np.sqrt(np.mean(((y - y_hat) / y) ** 2))\n",
    "\n",
    "rmpse_scorer = make_scorer(rmspe, greater_is_better = False) # Loss function\n",
    "\n",
    "def score(model, X_train, y_train, y_test, y_hat):\n",
    "    score = cross_val_score(model, X_train, y_train, scoring=rmpse_scorer, cv=5)\n",
    "    print('Mean', score.mean())\n",
    "    print('Variance', score.var())\n",
    "    print('RMSPE', rmspe(y_test, y_hat))\n",
    "\n",
    "def plot_importance(model):\n",
    "    k = list(zip(X, model.feature_importances_))\n",
    "    k.sort(key=lambda tup: tup[1])\n",
    "\n",
    "    labels, vals = zip(*k)\n",
    "    \n",
    "    plt.barh(np.arange(len(X)), vals, align='center')\n",
    "    plt.yticks(np.arange(len(X)), labels)"
   ]
  },
  {
   "cell_type": "code",
   "execution_count": null,
   "metadata": {},
   "outputs": [],
   "source": [
    "from sklearn.tree import DecisionTreeRegressor\n",
    "decision_tree = DecisionTreeRegressor()\n",
    "decision_tree.fit(X_train, y_train)\n",
    "plot_importance(decision_tree)"
   ]
  },
  {
   "cell_type": "code",
   "execution_count": null,
   "metadata": {},
   "outputs": [],
   "source": [
    "y_hat = decision_tree.predict(X_test)\n",
    "score(decision_tree, X_train, y_train, y_test, y_hat)"
   ]
  },
  {
   "cell_type": "code",
   "execution_count": null,
   "metadata": {},
   "outputs": [],
   "source": [
    "from sklearn.ensemble import RandomForestRegressor\n",
    "randomForest = RandomForestRegressor(n_estimators=25, n_jobs=-1, verbose=1)\n",
    "randomForest.fit(X_train, y_train)\n",
    "plot_importance(randomForest)"
   ]
  },
  {
   "cell_type": "code",
   "execution_count": null,
   "metadata": {},
   "outputs": [],
   "source": [
    "y_hat = randomForest.predict(X_test)\n",
    "score(randomForest, X_train, y_train, y_test, y_hat)"
   ]
  },
  {
   "cell_type": "code",
   "execution_count": null,
   "metadata": {},
   "outputs": [],
   "source": [
    "import xgboost as xgb\n",
    "\n",
    "def rmspe_xg(yhat, y):\n",
    "    y = np.expm1(y.get_label())\n",
    "    yhat = np.expm1(yhat)\n",
    "    return \"rmspe\", rmspe(y,yhat)\n",
    "\n",
    "xgboost_tree = xgb.XGBRegressor(\n",
    "    n_jobs = -1,\n",
    "    n_estimators = 1000,\n",
    "    eta = 0.1,\n",
    "    max_depth = 2,\n",
    "    min_child_weight = 2,\n",
    "    subsample = 0.8,\n",
    "    colsample_bytree = 0.8,\n",
    "    tree_method = 'exact',\n",
    "    reg_alpha = 0.05,\n",
    "    silent = 0,\n",
    "    random_state = 1023\n",
    ")\n",
    "xgboost_tree.fit(X_train[X], np.log1p(y_train), \n",
    "                 eval_set = [(X_train[X], np.log1p(y_train)), (X_test[X], np.log1p(y_test))],\n",
    "                 eval_metric = rmspe_xg,\n",
    "                 early_stopping_rounds = 300\n",
    "                )"
   ]
  },
  {
   "cell_type": "code",
   "execution_count": null,
   "metadata": {},
   "outputs": [],
   "source": [
    "print(\"Note that this is not in percentage, thus not to scale of graphs above\")\n",
    "xgb.plot_importance(xgboost_tree)"
   ]
  },
  {
   "cell_type": "code",
   "execution_count": null,
   "metadata": {},
   "outputs": [],
   "source": [
    "def rmspe_exp(y, y_hat):\n",
    "    return rmspe(np.expm1(y), np.expm1(y_hat))\n",
    "\n",
    "rmpse_xg_scorer = make_scorer(rmspe_exp, greater_is_better = False) # Loss function\n",
    "\n",
    "def score(model, X_train, y_train, y_test, y_hat):\n",
    "    score = cross_val_score(model, X_train, y_train, scoring=rmpse_xg_scorer, cv=5)\n",
    "    print('Mean', score.mean())\n",
    "    print('Variance', score.var())\n",
    "    print('RMSPE', rmspe(y_test, np.expm1(y_hat)))\n",
    "\n",
    "y_hat = xgboost_tree.predict(X_test[X])\n",
    "score(xgboost_tree, X_train[X], np.log1p(y_train), y_test, y_hat)"
   ]
  },
  {
   "cell_type": "code",
   "execution_count": null,
   "metadata": {},
   "outputs": [],
   "source": [
    "test = pd.read_csv(\"./assets/test_v2.csv\", parse_dates=[2], dtype=types)\n",
    "features = build_features(test, store)\n",
    "\n",
    "y_hat = np.expm1(xgboost_tree.predict(features[X]))\n",
    "\n",
    "df = pd.DataFrame({\"Id\": range(1, len(test) + 1), 'Sales': y_hat})\n",
    "df.loc[test['Open'] == 0, 'Sales'] = 1\n",
    "df.to_csv('sales.csv', index=False)"
   ]
  },
  {
   "cell_type": "code",
   "execution_count": null,
   "metadata": {},
   "outputs": [],
   "source": []
  }
 ],
 "metadata": {
  "kernelspec": {
   "display_name": "Python 3",
   "language": "python",
   "name": "python3"
  },
  "language_info": {
   "codemirror_mode": {
    "name": "ipython",
    "version": 3
   },
   "file_extension": ".py",
   "mimetype": "text/x-python",
   "name": "python",
   "nbconvert_exporter": "python",
   "pygments_lexer": "ipython3",
   "version": "3.7.5"
  }
 },
 "nbformat": 4,
 "nbformat_minor": 2
}
